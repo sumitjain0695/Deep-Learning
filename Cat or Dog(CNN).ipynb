{
 "cells": [
  {
   "cell_type": "code",
   "execution_count": 1,
   "metadata": {},
   "outputs": [
    {
     "name": "stdout",
     "output_type": "stream",
     "text": [
      "Default GPU Device: /device:GPU:0\n"
     ]
    }
   ],
   "source": [
    "import tensorflow as tf\n",
    "if tf.test.gpu_device_name():\n",
    "    print('Default GPU Device: {}'.format(tf.test.gpu_device_name()))"
   ]
  },
  {
   "cell_type": "code",
   "execution_count": 4,
   "metadata": {},
   "outputs": [
    {
     "name": "stdout",
     "output_type": "stream",
     "text": [
      "[name: \"/device:CPU:0\"\n",
      "device_type: \"CPU\"\n",
      "memory_limit: 268435456\n",
      "locality {\n",
      "}\n",
      "incarnation: 14669225555728055156\n",
      ", name: \"/device:GPU:0\"\n",
      "device_type: \"GPU\"\n",
      "memory_limit: 3194762035\n",
      "locality {\n",
      "  bus_id: 1\n",
      "  links {\n",
      "  }\n",
      "}\n",
      "incarnation: 9964983267587210459\n",
      "physical_device_desc: \"device: 0, name: GeForce GTX 960M, pci bus id: 0000:01:00.0, compute capability: 5.0\"\n",
      "]\n"
     ]
    }
   ],
   "source": [
    "from tensorflow.python.client import device_lib\n",
    "print(device_lib.list_local_devices())"
   ]
  },
  {
   "cell_type": "code",
   "execution_count": 5,
   "metadata": {},
   "outputs": [
    {
     "name": "stdout",
     "output_type": "stream",
     "text": [
      "[[22. 28.]\n",
      " [49. 64.]]\n"
     ]
    }
   ],
   "source": [
    "with tf.device('/device:GPU:0'):\n",
    "    a = tf.constant([1.0, 2.0, 3.0, 4.0, 5.0, 6.0], shape=[2, 3], name='a')\n",
    "    b = tf.constant([1.0, 2.0, 3.0, 4.0, 5.0, 6.0], shape=[3, 2], name='b')\n",
    "    c = tf.matmul(a, b)\n",
    "    sess = tf.Session(config=tf.ConfigProto(log_device_placement=True))\n",
    "    r = sess.run(c)\n",
    "    print(r)\n",
    "    import numpy as np\n",
    "    assert np.all(r == np.array([[22., 28.], [49., 64.]]))"
   ]
  },
  {
   "cell_type": "code",
   "execution_count": 2,
   "metadata": {},
   "outputs": [
    {
     "name": "stderr",
     "output_type": "stream",
     "text": [
      "Using TensorFlow backend.\n"
     ]
    }
   ],
   "source": [
    "import numpy as np\n",
    "from keras.models import Sequential\n",
    "from keras.layers import Convolution2D\n",
    "from keras.layers import MaxPooling2D\n",
    "from keras.layers import Flatten\n",
    "from keras.layers import Dense\n",
    "from keras.preprocessing.image import ImageDataGenerator\n",
    "from keras.preprocessing import image"
   ]
  },
  {
   "cell_type": "code",
   "execution_count": 3,
   "metadata": {},
   "outputs": [
    {
     "name": "stderr",
     "output_type": "stream",
     "text": [
      "WARNING: Logging before flag parsing goes to stderr.\n",
      "W0709 02:51:19.843217 14228 deprecation_wrapper.py:119] From C:\\Users\\ASUS\\AppData\\Local\\Programs\\Python\\Python37\\lib\\site-packages\\keras\\backend\\tensorflow_backend.py:74: The name tf.get_default_graph is deprecated. Please use tf.compat.v1.get_default_graph instead.\n",
      "\n"
     ]
    }
   ],
   "source": [
    "classifier = Sequential()"
   ]
  },
  {
   "cell_type": "code",
   "execution_count": 4,
   "metadata": {},
   "outputs": [
    {
     "name": "stderr",
     "output_type": "stream",
     "text": [
      "W0709 02:51:20.076921 14228 deprecation_wrapper.py:119] From C:\\Users\\ASUS\\AppData\\Local\\Programs\\Python\\Python37\\lib\\site-packages\\keras\\backend\\tensorflow_backend.py:517: The name tf.placeholder is deprecated. Please use tf.compat.v1.placeholder instead.\n",
      "\n",
      "W0709 02:51:20.079913 14228 deprecation_wrapper.py:119] From C:\\Users\\ASUS\\AppData\\Local\\Programs\\Python\\Python37\\lib\\site-packages\\keras\\backend\\tensorflow_backend.py:4138: The name tf.random_uniform is deprecated. Please use tf.random.uniform instead.\n",
      "\n"
     ]
    }
   ],
   "source": [
    "classifier.add(Convolution2D(32, (3, 3), input_shape = (64, 64, 3), activation = 'relu'))"
   ]
  },
  {
   "cell_type": "code",
   "execution_count": 5,
   "metadata": {},
   "outputs": [
    {
     "name": "stderr",
     "output_type": "stream",
     "text": [
      "W0709 02:51:20.271447 14228 deprecation_wrapper.py:119] From C:\\Users\\ASUS\\AppData\\Local\\Programs\\Python\\Python37\\lib\\site-packages\\keras\\backend\\tensorflow_backend.py:3976: The name tf.nn.max_pool is deprecated. Please use tf.nn.max_pool2d instead.\n",
      "\n"
     ]
    }
   ],
   "source": [
    "classifier.add(MaxPooling2D(pool_size = (2, 2)))"
   ]
  },
  {
   "cell_type": "code",
   "execution_count": 6,
   "metadata": {},
   "outputs": [],
   "source": [
    "classifier.add(Convolution2D(32, (3, 3), activation = 'relu'))"
   ]
  },
  {
   "cell_type": "code",
   "execution_count": 7,
   "metadata": {},
   "outputs": [],
   "source": [
    "classifier.add(MaxPooling2D(pool_size = (2, 2)))"
   ]
  },
  {
   "cell_type": "code",
   "execution_count": 8,
   "metadata": {},
   "outputs": [],
   "source": [
    "classifier.add(Flatten())"
   ]
  },
  {
   "cell_type": "code",
   "execution_count": 9,
   "metadata": {},
   "outputs": [],
   "source": [
    "classifier.add(Dense(activation=\"relu\", units=128))"
   ]
  },
  {
   "cell_type": "code",
   "execution_count": 10,
   "metadata": {},
   "outputs": [],
   "source": [
    "classifier.add(Dense(activation=\"sigmoid\", units=1))"
   ]
  },
  {
   "cell_type": "code",
   "execution_count": 11,
   "metadata": {},
   "outputs": [
    {
     "name": "stderr",
     "output_type": "stream",
     "text": [
      "W0709 02:51:22.300076 14228 deprecation_wrapper.py:119] From C:\\Users\\ASUS\\AppData\\Local\\Programs\\Python\\Python37\\lib\\site-packages\\keras\\optimizers.py:790: The name tf.train.Optimizer is deprecated. Please use tf.compat.v1.train.Optimizer instead.\n",
      "\n",
      "W0709 02:51:22.326970 14228 deprecation_wrapper.py:119] From C:\\Users\\ASUS\\AppData\\Local\\Programs\\Python\\Python37\\lib\\site-packages\\keras\\backend\\tensorflow_backend.py:3376: The name tf.log is deprecated. Please use tf.math.log instead.\n",
      "\n",
      "W0709 02:51:22.332960 14228 deprecation.py:323] From C:\\Users\\ASUS\\AppData\\Local\\Programs\\Python\\Python37\\lib\\site-packages\\tensorflow\\python\\ops\\nn_impl.py:180: add_dispatch_support.<locals>.wrapper (from tensorflow.python.ops.array_ops) is deprecated and will be removed in a future version.\n",
      "Instructions for updating:\n",
      "Use tf.where in 2.0, which has the same broadcast rule as np.where\n"
     ]
    }
   ],
   "source": [
    "classifier.compile(optimizer = 'adam', loss = 'binary_crossentropy', metrics = ['accuracy'])"
   ]
  },
  {
   "cell_type": "code",
   "execution_count": 12,
   "metadata": {},
   "outputs": [],
   "source": [
    "train_datagen = ImageDataGenerator(rescale = 1./255,\n",
    "                                   shear_range = 0.2,\n",
    "                                   zoom_range = 0.2,\n",
    "                                   horizontal_flip = True)"
   ]
  },
  {
   "cell_type": "code",
   "execution_count": 13,
   "metadata": {},
   "outputs": [],
   "source": [
    "test_datagen = ImageDataGenerator(rescale = 1./255)"
   ]
  },
  {
   "cell_type": "code",
   "execution_count": 14,
   "metadata": {},
   "outputs": [
    {
     "name": "stdout",
     "output_type": "stream",
     "text": [
      "Found 8000 images belonging to 2 classes.\n"
     ]
    }
   ],
   "source": [
    "training_set = train_datagen.flow_from_directory('dataset/training_set',\n",
    "                                                 target_size = (64, 64),\n",
    "                                                 batch_size = 32,\n",
    "                                                 class_mode = 'binary')"
   ]
  },
  {
   "cell_type": "code",
   "execution_count": 15,
   "metadata": {},
   "outputs": [
    {
     "name": "stdout",
     "output_type": "stream",
     "text": [
      "Found 2000 images belonging to 2 classes.\n"
     ]
    }
   ],
   "source": [
    "test_set = test_datagen.flow_from_directory('dataset/test_set',\n",
    "                                            target_size = (64, 64),\n",
    "                                            batch_size = 32,\n",
    "                                            class_mode = 'binary')"
   ]
  },
  {
   "cell_type": "code",
   "execution_count": 16,
   "metadata": {},
   "outputs": [],
   "source": [
    "config = tf.ConfigProto()\n",
    "config.gpu_options.allow_growth = True\n",
    "sess = tf.Session(config=config)"
   ]
  },
  {
   "cell_type": "code",
   "execution_count": 17,
   "metadata": {},
   "outputs": [
    {
     "name": "stderr",
     "output_type": "stream",
     "text": [
      "C:\\Users\\ASUS\\AppData\\Local\\Programs\\Python\\Python37\\lib\\site-packages\\ipykernel_launcher.py:5: UserWarning: The semantics of the Keras 2 argument `steps_per_epoch` is not the same as the Keras 1 argument `samples_per_epoch`. `steps_per_epoch` is the number of batches to draw from the generator at each epoch. Basically steps_per_epoch = samples_per_epoch/batch_size. Similarly `nb_val_samples`->`validation_steps` and `val_samples`->`steps` arguments have changed. Update your method calls accordingly.\n",
      "  \"\"\"\n",
      "C:\\Users\\ASUS\\AppData\\Local\\Programs\\Python\\Python37\\lib\\site-packages\\ipykernel_launcher.py:5: UserWarning: Update your `fit_generator` call to the Keras 2 API: `fit_generator(<keras_pre..., validation_data=<keras_pre..., steps_per_epoch=250, epochs=25, validation_steps=2000)`\n",
      "  \"\"\"\n",
      "W0709 02:51:29.094136 14228 deprecation_wrapper.py:119] From C:\\Users\\ASUS\\AppData\\Local\\Programs\\Python\\Python37\\lib\\site-packages\\keras\\backend\\tensorflow_backend.py:986: The name tf.assign_add is deprecated. Please use tf.compat.v1.assign_add instead.\n",
      "\n"
     ]
    },
    {
     "name": "stdout",
     "output_type": "stream",
     "text": [
      "Epoch 1/25\n",
      "250/250 [==============================] - 95s 380ms/step - loss: 0.6610 - acc: 0.5896 - val_loss: 0.6088 - val_acc: 0.6705\n",
      "Epoch 2/25\n",
      "250/250 [==============================] - 87s 347ms/step - loss: 0.6024 - acc: 0.6689 - val_loss: 0.6418 - val_acc: 0.6480\n",
      "Epoch 3/25\n",
      "250/250 [==============================] - 86s 345ms/step - loss: 0.5663 - acc: 0.7084 - val_loss: 0.5442 - val_acc: 0.7231\n",
      "Epoch 4/25\n",
      "250/250 [==============================] - 84s 338ms/step - loss: 0.5268 - acc: 0.7319 - val_loss: 0.5150 - val_acc: 0.7471\n",
      "Epoch 5/25\n",
      "250/250 [==============================] - 87s 347ms/step - loss: 0.5084 - acc: 0.7480 - val_loss: 0.5004 - val_acc: 0.7606\n",
      "Epoch 6/25\n",
      "250/250 [==============================] - 96s 383ms/step - loss: 0.4787 - acc: 0.7675 - val_loss: 0.5189 - val_acc: 0.7492\n",
      "Epoch 7/25\n",
      "250/250 [==============================] - 104s 416ms/step - loss: 0.4704 - acc: 0.7724 - val_loss: 0.4847 - val_acc: 0.7764\n",
      "Epoch 8/25\n",
      "250/250 [==============================] - 99s 395ms/step - loss: 0.4520 - acc: 0.7859 - val_loss: 0.5060 - val_acc: 0.7666\n",
      "Epoch 9/25\n",
      "250/250 [==============================] - 106s 422ms/step - loss: 0.4328 - acc: 0.7946 - val_loss: 0.4738 - val_acc: 0.7800\n",
      "Epoch 10/25\n",
      "250/250 [==============================] - 105s 422ms/step - loss: 0.4198 - acc: 0.8043 - val_loss: 0.5258 - val_acc: 0.7562\n",
      "Epoch 11/25\n",
      "250/250 [==============================] - 102s 408ms/step - loss: 0.4122 - acc: 0.8127 - val_loss: 0.4544 - val_acc: 0.7893\n",
      "Epoch 12/25\n",
      "250/250 [==============================] - 119s 475ms/step - loss: 0.4055 - acc: 0.8131 - val_loss: 0.4744 - val_acc: 0.7736\n",
      "Epoch 13/25\n",
      "250/250 [==============================] - 102s 406ms/step - loss: 0.3842 - acc: 0.8233 - val_loss: 0.5121 - val_acc: 0.7651\n",
      "Epoch 14/25\n",
      "250/250 [==============================] - 90s 360ms/step - loss: 0.3722 - acc: 0.8316 - val_loss: 0.5313 - val_acc: 0.7509\n",
      "Epoch 15/25\n",
      "250/250 [==============================] - 93s 373ms/step - loss: 0.3647 - acc: 0.8408 - val_loss: 0.5086 - val_acc: 0.7785\n",
      "Epoch 16/25\n",
      "250/250 [==============================] - 95s 380ms/step - loss: 0.3605 - acc: 0.8376 - val_loss: 0.4675 - val_acc: 0.7905\n",
      "Epoch 17/25\n",
      "250/250 [==============================] - 97s 387ms/step - loss: 0.3359 - acc: 0.8500 - val_loss: 0.4670 - val_acc: 0.7965\n",
      "Epoch 18/25\n",
      "250/250 [==============================] - 117s 469ms/step - loss: 0.3202 - acc: 0.8546 - val_loss: 0.5545 - val_acc: 0.7660\n",
      "Epoch 19/25\n",
      "250/250 [==============================] - 116s 464ms/step - loss: 0.3185 - acc: 0.8584 - val_loss: 0.4715 - val_acc: 0.7965\n",
      "Epoch 20/25\n",
      "250/250 [==============================] - 103s 410ms/step - loss: 0.3031 - acc: 0.8700 - val_loss: 0.5073 - val_acc: 0.7826\n",
      "Epoch 21/25\n",
      "250/250 [==============================] - 104s 418ms/step - loss: 0.2953 - acc: 0.8769 - val_loss: 0.4841 - val_acc: 0.7934\n",
      "Epoch 22/25\n",
      "250/250 [==============================] - 95s 382ms/step - loss: 0.2828 - acc: 0.8790 - val_loss: 0.5117 - val_acc: 0.7937\n",
      "Epoch 23/25\n",
      "250/250 [==============================] - 97s 387ms/step - loss: 0.2667 - acc: 0.8859 - val_loss: 0.5511 - val_acc: 0.7876\n",
      "Epoch 24/25\n",
      "250/250 [==============================] - 97s 390ms/step - loss: 0.2529 - acc: 0.8962 - val_loss: 0.5730 - val_acc: 0.7945\n",
      "Epoch 25/25\n",
      "250/250 [==============================] - 99s 397ms/step - loss: 0.2446 - acc: 0.8960 - val_loss: 0.5381 - val_acc: 0.7887\n"
     ]
    },
    {
     "data": {
      "text/plain": [
       "<keras.callbacks.History at 0x2a1e25fb2e8>"
      ]
     },
     "execution_count": 17,
     "metadata": {},
     "output_type": "execute_result"
    }
   ],
   "source": [
    "classifier.fit_generator(training_set,\n",
    "                         samples_per_epoch = 8000,\n",
    "                         nb_epoch = 25,\n",
    "                         validation_data = test_set,\n",
    "                         nb_val_samples = 2000)"
   ]
  },
  {
   "cell_type": "code",
   "execution_count": 18,
   "metadata": {},
   "outputs": [],
   "source": [
    "from keras.preprocessing import image"
   ]
  },
  {
   "cell_type": "code",
   "execution_count": 26,
   "metadata": {},
   "outputs": [
    {
     "name": "stdout",
     "output_type": "stream",
     "text": [
      "image dir : 1.jpg\n",
      "{'cats': 0, 'dogs': 1}\n"
     ]
    }
   ],
   "source": [
    "inp=input('image dir : ')\n",
    "test_image = image.load_img('dataset/inputs/'+inp,target_size = (64,64))\n",
    "test_image = image.img_to_array(test_image)\n",
    "test_image = np.expand_dims(test_image, axis=0)\n",
    "pred = classifier.predict(test_image)\n",
    "print(training_set.class_indices)"
   ]
  },
  {
   "cell_type": "code",
   "execution_count": 27,
   "metadata": {},
   "outputs": [
    {
     "name": "stdout",
     "output_type": "stream",
     "text": [
      "Cat\n"
     ]
    }
   ],
   "source": [
    "if pred[0][0] == 1:\n",
    "    print('Dog')\n",
    "else:\n",
    "    print('Cat')"
   ]
  },
  {
   "cell_type": "code",
   "execution_count": null,
   "metadata": {},
   "outputs": [],
   "source": []
  }
 ],
 "metadata": {
  "kernelspec": {
   "display_name": "Python 3",
   "language": "python",
   "name": "python3"
  },
  "language_info": {
   "codemirror_mode": {
    "name": "ipython",
    "version": 3
   },
   "file_extension": ".py",
   "mimetype": "text/x-python",
   "name": "python",
   "nbconvert_exporter": "python",
   "pygments_lexer": "ipython3",
   "version": "3.7.2"
  }
 },
 "nbformat": 4,
 "nbformat_minor": 2
}
